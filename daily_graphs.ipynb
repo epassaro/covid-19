{
 "cells": [
  {
   "cell_type": "markdown",
   "metadata": {},
   "source": [
    "# Daily graphs of COVID-19 pandemic\n",
    "\n",
    "- Automatically updated every day at 22:00 (Argentina Standard Time)\n",
    "- Data downloaded from [John Hopkins University repository](https://github.com/CSSEGISandData/COVID-19)\n",
    "- Code released under GNU GPLv3 License [github.com/epassaro/covid-19](https://github.com/epassaro/covid-19)"
   ]
  },
  {
   "cell_type": "code",
   "execution_count": null,
   "metadata": {},
   "outputs": [],
   "source": [
    "import itertools\n",
    "import numpy as np\n",
    "import pandas as pd\n",
    "from bokeh.plotting import figure, show, ColumnDataSource\n",
    "from bokeh.models.tools import HoverTool\n",
    "from bokeh.palettes import Category10\n",
    "from bokeh.io import output_notebook\n",
    "\n",
    "output_notebook()"
   ]
  },
  {
   "cell_type": "code",
   "execution_count": null,
   "metadata": {},
   "outputs": [],
   "source": [
    "!wget -q https://raw.githubusercontent.com/CSSEGISandData/COVID-19/master/csse_covid_19_data/csse_covid_19_time_series/time_series_covid19_confirmed_global.csv"
   ]
  },
  {
   "cell_type": "code",
   "execution_count": null,
   "metadata": {},
   "outputs": [],
   "source": [
    "countries = {'South America': ['Argentina', 'Bolivia', 'Brazil', \n",
    "                               'Chile', 'Colombia', 'Ecuador', \n",
    "                               'Paraguay', 'Peru', 'Uruguay', \n",
    "                               'Venezuela'],\n",
    "                         \n",
    "             'North America': ['Canada', 'Mexico', 'US'],\n",
    "             \n",
    "             'Europe': ['Italy', 'Spain', 'France', \n",
    "                        'Germany', 'United Kingdom'] + ['Belgium', \n",
    "                        'Netherlands', 'Russia', 'Switzerland'],\n",
    "             \n",
    "             'Asia & Oceania': ['Japan', 'Singapore', 'Thailand',\n",
    "                                'Indonesia', 'Philippines', 'India',\n",
    "                                'Australia', 'India'],\n",
    "\n",
    "             'World': ['China', 'Korea, South', 'Italy',\n",
    "                       'Iran', 'Spain', 'Germany', \n",
    "                       'United Kingdom', 'US', 'Australia', \n",
    "                       'Brazil']}"
   ]
  },
  {
   "cell_type": "code",
   "execution_count": null,
   "metadata": {},
   "outputs": [],
   "source": [
    "palette = itertools.cycle(Category10[10])"
   ]
  },
  {
   "cell_type": "code",
   "execution_count": null,
   "metadata": {},
   "outputs": [],
   "source": [
    "def shift(serie):\n",
    "    day_zero = serie.ne(0).idxmax()\n",
    "    return serie[day_zero:]"
   ]
  },
  {
   "cell_type": "code",
   "execution_count": null,
   "metadata": {},
   "outputs": [],
   "source": [
    "fname = './time_series_covid19_confirmed_global.csv'"
   ]
  },
  {
   "cell_type": "code",
   "execution_count": null,
   "metadata": {},
   "outputs": [],
   "source": [
    "def plot_cases(fname, countries, key):\n",
    "    \n",
    "    ### Create table\n",
    "    \n",
    "    df = pd.read_csv(fname)\n",
    "    df = df.drop(columns=['Province/State', 'Lat', 'Long'])\n",
    "    df = df.groupby(by=['Country/Region']).sum()\n",
    "    df = df.transpose()\n",
    "    df.index.name = 'date'\n",
    "    df.columns.name = None\n",
    "    #df.index = pd.to_datetime(df.index)\n",
    "    df = df.reset_index()\n",
    "\n",
    "    df_list = []\n",
    "    for country in countries[key]:\n",
    "        _ = shift(df[country])\n",
    "        _ = _.reset_index(drop=True)\n",
    "        df_list.append(_)\n",
    "    \n",
    "    df = pd.concat(df_list, axis=1)\n",
    "\n",
    "\n",
    "    ### Plot begins\n",
    "    \n",
    "    source = ColumnDataSource(df)\n",
    "    p = figure(plot_width=680, plot_height=420)\n",
    "\n",
    "    hovers = []\n",
    "    for country in countries[key]:\n",
    "    \n",
    "        color = next(palette)\n",
    "        p.line(x='index', y=country, source=source,\n",
    "               line_width=1.5, \n",
    "               legend_label=country, \n",
    "               color=color)\n",
    "\n",
    "        p.circle(x='index', y=country, source=source,\n",
    "                 legend_label=country, \n",
    "                 color=color,\n",
    "                 name=country) # Tooltip are shown only on points! \n",
    "    \n",
    "        TOOLTIPS = [('Country', country),\n",
    "                    ('Day', '@index'),\n",
    "                    ('Total cases', '@{}'.format(country))]\n",
    "    \n",
    "        hover = HoverTool(tooltips=TOOLTIPS, names=[country])\n",
    "        hovers.append(hover)\n",
    "\n",
    "    p.add_tools(*hovers)\n",
    "    p.legend.click_policy = 'hide'\n",
    "    p.legend.location = 'top_left'\n",
    "    p.legend.label_text_font_size = '8pt'\n",
    "    p.yaxis.formatter.use_scientific = False\n",
    "    p.xaxis.axis_label = \"Days since 1st case\"\n",
    "    p.yaxis.axis_label = \"Total cases\"\n",
    "    p.title.text = \"Cumulative confirmed COVID-19 cases ({})\".format(key)\n",
    "\n",
    "    return show(p)"
   ]
  },
  {
   "cell_type": "code",
   "execution_count": null,
   "metadata": {
    "scrolled": false
   },
   "outputs": [],
   "source": [
    "_ = [ plot_cases(fname, countries, k) for k in countries.keys() ]"
   ]
  }
 ],
 "metadata": {
  "kernelspec": {
   "display_name": "Python 3",
   "language": "python",
   "name": "python3"
  },
  "language_info": {
   "codemirror_mode": {
    "name": "ipython",
    "version": 3
   },
   "file_extension": ".py",
   "mimetype": "text/x-python",
   "name": "python",
   "nbconvert_exporter": "python",
   "pygments_lexer": "ipython3",
   "version": "3.6.10"
  }
 },
 "nbformat": 4,
 "nbformat_minor": 4
}
