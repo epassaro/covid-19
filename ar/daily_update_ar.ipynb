{
 "cells": [
  {
   "cell_type": "code",
   "execution_count": null,
   "metadata": {},
   "outputs": [],
   "source": [
    "import pytz\n",
    "import datetime\n",
    "import itertools\n",
    "import numpy as np\n",
    "import pandas as pd\n",
    "from ruamel.yaml import YAML\n",
    "from bokeh.plotting import figure, show, ColumnDataSource\n",
    "from bokeh.models import NumeralTickFormatter\n",
    "from bokeh.models.tools import HoverTool\n",
    "from bokeh.palettes import Category10, Category20\n",
    "from bokeh.resources import INLINE\n",
    "import panel as pn\n",
    "\n",
    "pn.extension()\n",
    "pn.config.sizing_mode = 'stretch_width'"
   ]
  },
  {
   "cell_type": "code",
   "execution_count": null,
   "metadata": {},
   "outputs": [],
   "source": [
    "ar = pytz.timezone('America/Argentina/Buenos_Aires')\n",
    "now = datetime.datetime.now(ar)\n",
    "dt_string = now.strftime(\"%d-%m-%Y %H:%M\")"
   ]
  },
  {
   "cell_type": "code",
   "execution_count": null,
   "metadata": {},
   "outputs": [],
   "source": [
    "header = pn.pane.Markdown(f\"\"\"\n",
    "# COVID-19 -- Argentina\n",
    "\n",
    "[Volver a la página anterior](https://epassaro.github.io/covid-19) | Página siguiente: [Vacunas aplicadas en Argentina](https://epassaro.github.io/ar/vacunas)\n",
    "\n",
    "\"\"\", width=800, margin=(0, 0, 10, 0)\n",
    ")"
   ]
  },
  {
   "cell_type": "code",
   "execution_count": null,
   "metadata": {},
   "outputs": [],
   "source": [
    "footer = pn.pane.Markdown(f\"\"\"\n",
    "Datos provistos por [Sistemas Mapache](https://github.com/SistemasMapache/Covid19arData),\n",
    "[Ministerio de Salud de la Nación](http://datos.salud.gob.ar/dataset/vacunas-contra-covid-19-dosis-aplicadas-en-la-republica-argentina)\n",
    "e [INDEC](https://www.indec.gob.ar/indec/web/Nivel4-Tema-2-24-85).\n",
    "El código fuente se distribuye en [GitHub](https://github.com/epassaro/covid-19) bajo la [GNU GPLv3 License](https://raw.githubusercontent.com/epassaro/covid-19/master/LICENSE).\n",
    "<br> **Última actualización: ** _{dt_string}_ UTC−03:00. Powered by [Panel](https://panel.holoviz.org/index.html) and [GitHub Pages](https://pages.github.com/).\n",
    "\n",
    "\"\"\", width=800, margin=(0, 0, 10, 0)\n",
    ")"
   ]
  },
  {
   "cell_type": "code",
   "execution_count": null,
   "metadata": {},
   "outputs": [],
   "source": [
    "fname = 'https://docs.google.com/spreadsheets/d/16-bnsDdmmgtSxdWbVMboIHo5FRuz76DBxsz_BbsEVWA/export?format=csv&id=16-bnsDdmmgtSxdWbVMboIHo5FRuz76DBxsz_BbsEVWA&gid=0'"
   ]
  },
  {
   "cell_type": "code",
   "execution_count": null,
   "metadata": {},
   "outputs": [],
   "source": [
    "yaml = YAML()\n",
    "\n",
    "with open('plots.yml') as f:\n",
    "    countries = yaml.load(f)"
   ]
  },
  {
   "cell_type": "code",
   "execution_count": null,
   "metadata": {},
   "outputs": [],
   "source": [
    "from functools import reduce\n",
    "\n",
    "def create_table(fname, countries, key):\n",
    "\n",
    "    df = pd.read_csv(fname, index_col='fecha', parse_dates=True, dayfirst=True)\n",
    "    df = df[['osm_admin_level_4', 'nue_casosconf_diff', 'nue_fallecidos_diff']]\n",
    "    df.index.name = 'date'\n",
    "    df.columns = ['country', 'diff', 'xdiff']\n",
    "    df = df.reset_index()\n",
    "    \n",
    "    df_list = []\n",
    "    for country in countries[key]:\n",
    "        d = df.set_index('country').loc[country].reset_index(drop=True)\n",
    "        d.columns = ['date', f'diff{country}', f'xdiff{country}']\n",
    "        d[country] = d[f'diff{country}'].cumsum()\n",
    "        d[f'x{country}'] = d[f'xdiff{country}'].cumsum()\n",
    "        d[f'roll{country}'] = d[f'diff{country}'].rolling(7).mean()\n",
    "        d[f'xroll{country}'] = d[f'xdiff{country}'].rolling(7).mean()\n",
    "        df_list.append(d)\n",
    "        \n",
    "    df_merged = reduce(lambda left, right: pd.merge(left, right, \n",
    "                                                    on='date', how='outer'), df_list).fillna(0)\n",
    "    \n",
    "    df = df_merged.groupby('date').sum()\n",
    "    df = df.reset_index()\n",
    "    df['datestr'] = df['date'].map(lambda x: x.strftime('%d-%m-%Y'))\n",
    "    df = df.set_index('date')\n",
    "\n",
    "    return df"
   ]
  },
  {
   "cell_type": "code",
   "execution_count": null,
   "metadata": {},
   "outputs": [],
   "source": [
    "def make_plots(df, name):\n",
    "\n",
    "    n = len(df.columns) // 4\n",
    "    \n",
    "    if n == 2:  # dumb fix for 2 countries plot (use 3 colors palette)\n",
    "        n = 3\n",
    "\n",
    "    if n <= 10:\n",
    "        palette = itertools.cycle(Category10[n])\n",
    "\n",
    "    else:\n",
    "        palette = itertools.cycle(Category20[n])\n",
    "\n",
    "    source = ColumnDataSource(df)\n",
    "    q = figure(plot_width=680, plot_height=520, name='Nuevos casos', x_axis_type='datetime')\n",
    "    r = figure(plot_width=680, plot_height=520, name='Fallecidos', x_axis_type='datetime')\n",
    "\n",
    "    hovers = []\n",
    "    xhovers = []\n",
    "    for country in df[ [c for c in df.columns if c[:4] not in ['date', 'diff', 'roll'] \\\n",
    "                                                        and not c.startswith('x') ] ]:\n",
    "\n",
    "        color = next(palette)\n",
    "        q.vbar(x='date', top=f'diff{country}', source=source,\n",
    "                 legend_label=country,\n",
    "                 width=datetime.timedelta(days=1),\n",
    "                 line_width=0,\n",
    "                 color=color,\n",
    "                 alpha=0.5,\n",
    "                 name=country)\n",
    "\n",
    "        q.line(x='date', y=f'roll{country}', source=source,\n",
    "                 legend_label=country,\n",
    "                 line_width=1.5,\n",
    "                 color=color,\n",
    "                 alpha=0.75,\n",
    "                 name=country)\n",
    "\n",
    "        r.vbar(x='date', top=f'xdiff{country}', source=source,\n",
    "                 legend_label=country,\n",
    "                 width=datetime.timedelta(days=1),\n",
    "                 line_width=0,\n",
    "                 color=color,\n",
    "                 alpha=0.5,\n",
    "                 name=country)\n",
    "        \n",
    "        r.line(x='date', y=f'xroll{country}', source=source,\n",
    "                 legend_label=country,\n",
    "                 line_width=1.5,\n",
    "                 color=color,\n",
    "                 alpha=0.75,\n",
    "                 name=country)\n",
    "\n",
    "\n",
    "        TOOLTIPS = [('Provincia', country),\n",
    "                    ('Fecha', '@{datestr}'),\n",
    "                    ('Nuevos casos', f'@{{diff{country}}}{{0,0}}'),\n",
    "                    ('Media móvil 7-d', f'@{{roll{country}}}{{0,0.0}}'),\n",
    "                    ('Total casos', f'@{{{country}}}{{0,0}}')] # Double curly braces for names containing whitespaces\n",
    "        \n",
    "        xTOOLTIPS = [('Provincia', country),\n",
    "                    ('Fecha', '@{datestr}'),\n",
    "                    ('Nuevos fallecidos', f'@{{xdiff{country}}}{{0,0}}'),\n",
    "                    ('Media móvil 7-d', f'@{{xroll{country}}}{{0,0.0}}'),\n",
    "                    ('Total fallecidos', f'@{{x{country}}}{{0,0}}')] # Double curly braces for names containing whitespaces\n",
    "\n",
    "        hover = HoverTool(tooltips=TOOLTIPS, names=[country], description=country)\n",
    "        hovers.append(hover)\n",
    "\n",
    "        xhover = HoverTool(tooltips=xTOOLTIPS, names=[country])\n",
    "        xhovers.append(xhover)\n",
    "\n",
    "    q.add_tools(*hovers)\n",
    "    q.legend.click_policy = 'hide'\n",
    "    q.legend.location = 'top_left'\n",
    "    q.legend.label_text_font_size = '8pt'\n",
    "    q.yaxis.formatter = NumeralTickFormatter(format='0,0')\n",
    "    q.xaxis.axis_label = \"Fecha\"\n",
    "    q.yaxis.axis_label = \"Nuevos casos\"\n",
    "    q.title.text = f\"Nuevos casos confirmados de COVID-19 por día ({name})\"\n",
    "    \n",
    "    r.add_tools(*xhovers)\n",
    "    r.legend.click_policy = 'hide'\n",
    "    r.legend.location = 'top_left'\n",
    "    r.legend.label_text_font_size = '8pt'\n",
    "    r.yaxis.formatter = NumeralTickFormatter(format='0,0')\n",
    "    r.xaxis.axis_label = \"Fecha\"\n",
    "    r.yaxis.axis_label = \"Nuevos fallecidos\"\n",
    "    r.title.text = f\"Nuevos fallecidos por COVID-19 por día ({name})\"\n",
    "\n",
    "    return pn.Tabs(q, r, name=name, margin=(10, 20, 0, 20))"
   ]
  },
  {
   "cell_type": "code",
   "execution_count": null,
   "metadata": {
    "scrolled": false
   },
   "outputs": [],
   "source": [
    "_ = [ make_plots(create_table(fname, countries, k), k) for k in countries ]"
   ]
  },
  {
   "cell_type": "code",
   "execution_count": null,
   "metadata": {},
   "outputs": [],
   "source": [
    "tabs = pn.Tabs(*_)"
   ]
  },
  {
   "cell_type": "code",
   "execution_count": null,
   "metadata": {},
   "outputs": [],
   "source": [
    "pn.Column(header, \n",
    "          tabs,\n",
    "          footer,\n",
    "          margin=(20, 40, 0, 40)\n",
    "         ).save('index.html', \n",
    "                title='COVID-19 - Argentina', \n",
    "                resources=INLINE)"
   ]
  }
 ],
 "metadata": {
  "kernelspec": {
   "display_name": "Python 3",
   "language": "python",
   "name": "python3"
  },
  "language_info": {
   "codemirror_mode": {
    "name": "ipython",
    "version": 3
   },
   "file_extension": ".py",
   "mimetype": "text/x-python",
   "name": "python",
   "nbconvert_exporter": "python",
   "pygments_lexer": "ipython3",
   "version": "3.6.13"
  }
 },
 "nbformat": 4,
 "nbformat_minor": 4
}
