{
 "cells": [
  {
   "cell_type": "code",
   "execution_count": null,
   "id": "99e6e9d2",
   "metadata": {},
   "outputs": [],
   "source": [
    "import pytz\n",
    "import datetime\n",
    "import numpy as np\n",
    "import pandas as pd\n",
    "from bokeh.models import NumberFormatter\n",
    "from bokeh.resources import INLINE\n",
    "import panel as pn\n",
    "\n",
    "pn.extension()\n",
    "pn.config.sizing_mode = 'stretch_width'"
   ]
  },
  {
   "cell_type": "code",
   "execution_count": null,
   "id": "8788d60d",
   "metadata": {},
   "outputs": [],
   "source": [
    "ar = pytz.timezone('America/Argentina/Buenos_Aires')\n",
    "now = datetime.datetime.now(ar)\n",
    "dt_string = now.strftime(\"%d-%m-%Y %H:%M\")"
   ]
  },
  {
   "cell_type": "code",
   "execution_count": null,
   "id": "bfd6b0dd",
   "metadata": {},
   "outputs": [],
   "source": [
    "header = pn.pane.Markdown(f\"\"\"\n",
    "# COVID-19 -- Vacunas aplicadas en Argentina\n",
    "\n",
    "[Volver a la página anterior](https://epassaro.github.io/covid-19/ar)\n",
    "\n",
    "\"\"\", width=800, margin=(0, 0, 10, 0)\n",
    ")"
   ]
  },
  {
   "cell_type": "code",
   "execution_count": null,
   "id": "1829ce70",
   "metadata": {},
   "outputs": [],
   "source": [
    "footer = pn.pane.Markdown(f\"\"\"\n",
    "Datos provistos por [Ministerio de Salud de la Nación](http://datos.salud.gob.ar/dataset/vacunas-contra-covid-19-dosis-aplicadas-en-la-republica-argentina)\n",
    "e [INDEC](https://www.indec.gob.ar/indec/web/Nivel4-Tema-2-24-85).\n",
    "El código fuente se distribuye en [GitHub](https://github.com/epassaro/covid-19) bajo la [GNU GPLv3 License](https://raw.githubusercontent.com/epassaro/covid-19/master/LICENSE).\n",
    "<br> **Última actualización: ** _{dt_string}_ UTC−03:00. Powered by [Panel](https://panel.holoviz.org/index.html) and [GitHub Pages](https://pages.github.com/).\n",
    "\n",
    "\"\"\", width=800, margin=(0, 0, 10, 0)\n",
    ")"
   ]
  },
  {
   "cell_type": "code",
   "execution_count": null,
   "id": "9fd4344d",
   "metadata": {},
   "outputs": [],
   "source": [
    "fname = 'https://sisa.msal.gov.ar/datos/descargas/covid-19/files/Covid19VacunasAgrupadas.csv.zip'"
   ]
  },
  {
   "cell_type": "code",
   "execution_count": null,
   "id": "1820e43a",
   "metadata": {},
   "outputs": [],
   "source": [
    "# Población estimada al 01/07/2021 según INDEC\n",
    "pob_est_2021 = {'Argentina (Total país)': 45808747,\n",
    "                'Buenos Aires': 17709598,\n",
    "                'CABA': 3078836,\n",
    "                'Catamarca': 418991,\n",
    "                'Chaco': 1216247,\n",
    "                'Chubut': 659284,\n",
    "                'Corrientes': 1130320,\n",
    "                'Córdoba': 3798261,\n",
    "                'Entre Ríos': 1398510,\n",
    "                'Formosa': 610019,\n",
    "                'Jujuy': 779212,\n",
    "                'La Pampa': 361394,\n",
    "                'La Rioja': 398648,\n",
    "                'Mendoza': 2010363,\n",
    "                'Misiones': 1274992,\n",
    "                'Neuquén': 672461,\n",
    "                'Río Negro': 757052,\n",
    "                'Salta': 1441988,\n",
    "                'San Juan': 789489,\n",
    "                'San Luis': 514610,\n",
    "                'Santa Cruz': 374756,\n",
    "                'Santa Fe': 3667505,\n",
    "                'Santiago del Estero': 988245,\n",
    "                'Tierra del Fuego': 177697,\n",
    "                'Tucumán': 1791571}"
   ]
  },
  {
   "cell_type": "code",
   "execution_count": null,
   "id": "43f90f60",
   "metadata": {},
   "outputs": [],
   "source": [
    "df = pd.read_csv(fname)"
   ]
  },
  {
   "cell_type": "code",
   "execution_count": null,
   "id": "f732b6fb",
   "metadata": {},
   "outputs": [],
   "source": [
    "df = df.drop(columns='jurisdiccion_codigo_indec')\n",
    "df = df.rename(columns={'jurisdiccion_nombre': 'Jurisdicción', \n",
    "                        'vacuna_nombre': 'Vacuna', \n",
    "                        'primera_dosis_cantidad': 'Primera dosis',\n",
    "                        'segunda_dosis_cantidad': 'Segunda dosis'})"
   ]
  },
  {
   "cell_type": "code",
   "execution_count": null,
   "id": "2405e32a",
   "metadata": {},
   "outputs": [],
   "source": [
    "vacunas_nombres = df['Vacuna'].unique().tolist()\n",
    "vacunas_nombres"
   ]
  },
  {
   "cell_type": "code",
   "execution_count": null,
   "id": "cbd9812f",
   "metadata": {},
   "outputs": [],
   "source": [
    "nuevos_nombres = ['AstraZeneca', 'Covishield', 'Sinopharm', 'Sputnik V']"
   ]
  },
  {
   "cell_type": "code",
   "execution_count": null,
   "id": "8a014179",
   "metadata": {},
   "outputs": [],
   "source": [
    "map_nombres = dict(zip(vacunas_nombres, nuevos_nombres))"
   ]
  },
  {
   "cell_type": "code",
   "execution_count": null,
   "id": "4357b23e",
   "metadata": {},
   "outputs": [],
   "source": [
    "df = df.replace(map_nombres)"
   ]
  },
  {
   "cell_type": "code",
   "execution_count": null,
   "id": "0dbc45f8",
   "metadata": {},
   "outputs": [],
   "source": [
    "df_tot = df.groupby('Vacuna').sum().reset_index()\n",
    "df_tot['Jurisdicción'] = 'Argentina (Total país)'"
   ]
  },
  {
   "cell_type": "code",
   "execution_count": null,
   "id": "b5b9bbba",
   "metadata": {},
   "outputs": [],
   "source": [
    "df = pd.concat([df_tot, df])\n",
    "df"
   ]
  },
  {
   "cell_type": "code",
   "execution_count": null,
   "id": "903c286c",
   "metadata": {},
   "outputs": [],
   "source": [
    "pop_df = pd.DataFrame.from_records(zip(pob_est_2021.keys(), pob_est_2021.values()), columns=['Jurisdicción', 'Población'])\n",
    "pop_df = pop_df.set_index('Jurisdicción')"
   ]
  },
  {
   "cell_type": "code",
   "execution_count": null,
   "id": "3e311799",
   "metadata": {},
   "outputs": [],
   "source": [
    "df = df.set_index(['Jurisdicción', 'Vacuna']).join(pop_df)"
   ]
  },
  {
   "cell_type": "code",
   "execution_count": null,
   "id": "757bbb65",
   "metadata": {},
   "outputs": [],
   "source": [
    "df['Primera dosis (%)'] = df['Primera dosis'] / df['Población']\n",
    "df['Segunda dosis (%)'] = df['Segunda dosis'] / df['Población']\n",
    "df = df[['Primera dosis', 'Primera dosis (%)', 'Segunda dosis', 'Segunda dosis (%)' ]]"
   ]
  },
  {
   "cell_type": "code",
   "execution_count": null,
   "id": "b5acfffb",
   "metadata": {},
   "outputs": [],
   "source": [
    "formatter = NumberFormatter(format='0.00%') \n",
    "\n",
    "df_widget = pn.widgets.DataFrame(df,\n",
    "                                 hierarchical=True, \n",
    "                                 aggregators={'Jurisdicción': 'sum', \n",
    "                                              'Vacuna': 'sum',\n",
    "                                             },\n",
    "                                 frozen_rows=1,\n",
    "                                 formatters={'Primera dosis (%)': formatter,\n",
    "                                             'Segunda dosis (%)': formatter},\n",
    "                                 height=580,\n",
    "                                 autosize_mode='fit_columns',\n",
    "                                 margin=(0, 0, 10, 0),  #top, right, bottom, left\n",
    "                                 )"
   ]
  },
  {
   "cell_type": "code",
   "execution_count": null,
   "id": "a1e0271f",
   "metadata": {},
   "outputs": [],
   "source": [
    "pn.Column(header, \n",
    "          df_widget,\n",
    "          footer,\n",
    "          margin=(20, 40, 0, 40)\n",
    "         ).save('index.html', \n",
    "                title='COVID-19 - Vacunas aplicadas en Argentina', \n",
    "                resources=INLINE)"
   ]
  }
 ],
 "metadata": {
  "kernelspec": {
   "display_name": "Python 3",
   "language": "python",
   "name": "python3"
  },
  "language_info": {
   "codemirror_mode": {
    "name": "ipython",
    "version": 3
   },
   "file_extension": ".py",
   "mimetype": "text/x-python",
   "name": "python",
   "nbconvert_exporter": "python",
   "pygments_lexer": "ipython3",
   "version": "3.6.13"
  }
 },
 "nbformat": 4,
 "nbformat_minor": 5
}
