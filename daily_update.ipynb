{
 "cells": [
  {
   "cell_type": "code",
   "execution_count": null,
   "metadata": {},
   "outputs": [],
   "source": [
    "import itertools\n",
    "import numpy as np\n",
    "import pandas as pd\n",
    "from ruamel.yaml import YAML\n",
    "from bokeh.plotting import figure, show, ColumnDataSource\n",
    "from bokeh.models.tools import HoverTool\n",
    "from bokeh.palettes import Category10, Category20\n",
    "from bokeh.resources import INLINE\n",
    "import panel as pn\n",
    "\n",
    "pn.extension()"
   ]
  },
  {
   "cell_type": "code",
   "execution_count": null,
   "metadata": {},
   "outputs": [],
   "source": [
    "header = pn.pane.Markdown(\"\"\"\n",
    "# COVID-19 Daily Update\n",
    "\n",
    "- Updates at 22:00 (Argentina Standard Time).\n",
    "- Data downloaded from [John Hopkins University repository](https://github.com/CSSEGISandData/COVID-19).\n",
    "- Code released [here](https://github.com/epassaro/covid-19) under the [GNU GPLv3 License](https://raw.githubusercontent.com/epassaro/covid-19/master/LICENSE).\n",
    "\"\"\", width=800, margin=(0, 0, 10, 0)\n",
    ")"
   ]
  },
  {
   "cell_type": "code",
   "execution_count": null,
   "metadata": {},
   "outputs": [],
   "source": [
    "fname = 'https://raw.githubusercontent.com/CSSEGISandData/COVID-19/master/csse_covid_19_data/csse_covid_19_time_series/time_series_covid19_confirmed_global.csv'"
   ]
  },
  {
   "cell_type": "code",
   "execution_count": null,
   "metadata": {},
   "outputs": [],
   "source": [
    "yaml = YAML()\n",
    "\n",
    "with open('plots.yml') as f:\n",
    "    countries = yaml.load(f)"
   ]
  },
  {
   "cell_type": "code",
   "execution_count": null,
   "metadata": {},
   "outputs": [],
   "source": [
    "def create_table(fname, countries, key):\n",
    "    \n",
    "    map_names = {'US': 'United States',\n",
    "                 'Korea, South': 'South Korea'}\n",
    "   \n",
    "    df = pd.read_csv(fname)\n",
    "    df = df.drop(columns=['Province/State', 'Lat', 'Long'])\n",
    "    df = df.groupby(by=['Country/Region']).sum()\n",
    "    df = df.transpose()\n",
    "    df.columns.name = None\n",
    "    df.index.name = 'date'\n",
    "    df.index = pd.to_datetime(df.index)\n",
    "    df = df.reset_index()\n",
    "\n",
    "    df_list = []\n",
    "    for country in countries[key]:\n",
    "        day_zero = df[country].ne(0).idxmax()\n",
    "        \n",
    "        d = df[country][day_zero:]\n",
    "        d = d.reset_index(drop=True)\n",
    "        \n",
    "        t = df['date'][day_zero:]\n",
    "        t.name = 'date{}'.format(map_names.get(country, country))\n",
    "        \n",
    "        t = t.reset_index(drop=True)\n",
    "        t = t.map(lambda x: x.strftime('%d-%m-%Y'))\n",
    "        \n",
    "        df_list.append(d)\n",
    "        df_list.append(t)\n",
    "    \n",
    "    df = pd.concat(df_list, axis=1)\n",
    "    df = df.rename(columns=map_names)\n",
    "    \n",
    "    \n",
    "    return df"
   ]
  },
  {
   "cell_type": "code",
   "execution_count": null,
   "metadata": {},
   "outputs": [],
   "source": [
    "def plot_cases(df, name):\n",
    "    \n",
    "    n = len(df.columns)/2\n",
    "    if n <= 10:\n",
    "        palette = itertools.cycle(Category10[n])\n",
    "    else:\n",
    "        palette = itertools.cycle(Category20[n])\n",
    "    \n",
    "    source = ColumnDataSource(df)\n",
    "    p = figure(plot_width=680, plot_height=420, name=name)\n",
    "\n",
    "    hovers = []\n",
    "    for country in df[ [c for c in df.columns if not c.startswith('date') ] ]:\n",
    "    \n",
    "        color = next(palette)\n",
    "        p.line(x='index', y=country, source=source,\n",
    "               line_width=1.5, \n",
    "               legend_label=country, \n",
    "               color=color)\n",
    "\n",
    "        p.circle(x='index', y=country, source=source,\n",
    "                 legend_label=country, \n",
    "                 color=color,\n",
    "                 name=country) # Tooltip are shown only on points\n",
    "    \n",
    "        TOOLTIPS = [('Country', country),\n",
    "                    ('Day', '@index'),\n",
    "                    ('Date', '@{{date{}}}'.format(country)),\n",
    "                    ('Total cases', '@{{{}}}'.format(country))] # Triple curly braces for names containing whitespaces\n",
    "    \n",
    "        hover = HoverTool(tooltips=TOOLTIPS, names=[country])\n",
    "        hovers.append(hover)\n",
    "\n",
    "    p.add_tools(*hovers)\n",
    "    p.legend.click_policy = 'hide'\n",
    "    p.legend.location = 'top_left'\n",
    "    p.legend.label_text_font_size = '8pt'\n",
    "    p.yaxis.formatter.use_scientific = False\n",
    "    p.xaxis.axis_label = \"Days since 1st case\"\n",
    "    p.yaxis.axis_label = \"Total cases\"\n",
    "    p.title.text = \"Cumulative confirmed COVID-19 cases ({})\".format(name)\n",
    "\n",
    "    return p"
   ]
  },
  {
   "cell_type": "code",
   "execution_count": null,
   "metadata": {
    "scrolled": false
   },
   "outputs": [],
   "source": [
    "_ = [ plot_cases(create_table(fname, countries, k), k) for k in countries ]"
   ]
  },
  {
   "cell_type": "code",
   "execution_count": null,
   "metadata": {},
   "outputs": [],
   "source": [
    "tabs = pn.Tabs(*_)"
   ]
  },
  {
   "cell_type": "code",
   "execution_count": null,
   "metadata": {},
   "outputs": [],
   "source": [
    "pn.Column(header, \n",
    "          tabs, \n",
    "          margin=(20, 0, 0, 40)\n",
    "         ).save('index.html', \n",
    "                title='COVID-19 Daily Update', \n",
    "                resources=INLINE)"
   ]
  }
 ],
 "metadata": {
  "kernelspec": {
   "display_name": "Python 3",
   "language": "python",
   "name": "python3"
  },
  "language_info": {
   "codemirror_mode": {
    "name": "ipython",
    "version": 3
   },
   "file_extension": ".py",
   "mimetype": "text/x-python",
   "name": "python",
   "nbconvert_exporter": "python",
   "pygments_lexer": "ipython3",
   "version": "3.6.10"
  }
 },
 "nbformat": 4,
 "nbformat_minor": 4
}
